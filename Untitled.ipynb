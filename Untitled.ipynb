{
 "cells": [
  {
   "cell_type": "code",
   "execution_count": 1,
   "id": "5f354994-d7d6-4066-83f2-1b7029e5e26c",
   "metadata": {},
   "outputs": [],
   "source": [
    "import mindspore.ops as ops \n",
    "import  mindspore as ms \n",
    "import numpy as np"
   ]
  },
  {
   "cell_type": "code",
   "execution_count": 2,
   "id": "a9211c66-280c-44b4-8d1b-7d94e8bd7a8d",
   "metadata": {},
   "outputs": [],
   "source": [
    "a = ms.Tensor([0,1,1,0,2,1,2])\n",
    "b = ms.Tensor([\n",
    "        [0, 1, 2, 3, 4, 5, 6, 7, 8, 9],\n",
    "        [20, 21, 22, 23, 24, 25, 26, 27, 28, 29],\n",
    "        [30, 31, 32, 33, 34, 35, 36, 37, 38, 39],\n",
    "        [40, 41, 42, 43, 44, 45, 46, 47, 48, 49],\n",
    "        [30, 31, 32, 33, 34, 35, 36, 37, 38, 39],\n",
    "        [30, 31, 32, 33, 34, 35, 36, 37, 38, 39],\n",
    "        [40, 41, 42, 43, 44, 45, 46, 47, 48, 49]\n",
    "    ], dtype=ms.float32)"
   ]
  },
  {
   "cell_type": "code",
   "execution_count": 3,
   "id": "dd788f9c-c63a-473b-8d49-6774f39c441f",
   "metadata": {},
   "outputs": [
    {
     "data": {
      "text/plain": [
       "(Tensor(shape=[3], dtype=Int64, value= [0, 1, 2]),\n",
       " Tensor(shape=[7], dtype=Int64, value= [0, 1, 1, 0, 2, 1, 2]))"
      ]
     },
     "execution_count": 3,
     "metadata": {},
     "output_type": "execute_result"
    }
   ],
   "source": [
    "y,idx = ops.unique(a)\n",
    "y,idx"
   ]
  },
  {
   "cell_type": "code",
   "execution_count": 4,
   "id": "f04c7bbc-d128-4cc0-8502-6a15f898d528",
   "metadata": {},
   "outputs": [
    {
     "name": "stdout",
     "output_type": "stream",
     "text": [
      "[0 3]\n",
      "[1 2 5]\n",
      "[4 6]\n"
     ]
    },
    {
     "data": {
      "text/plain": [
       "(Tensor(shape=[2, 10], dtype=Float32, value=\n",
       " [[-5.00000000e+00, -5.00000000e+00, -5.00000000e+00 ... -5.00000000e+00, -5.00000000e+00, -5.00000000e+00],\n",
       "  [ 5.00000000e+00,  5.00000000e+00,  5.00000000e+00 ...  5.00000000e+00,  5.00000000e+00,  5.00000000e+00]]),\n",
       " Tensor(shape=[], dtype=Float32, value= 4472.22))"
      ]
     },
     "execution_count": 4,
     "metadata": {},
     "output_type": "execute_result"
    }
   ],
   "source": [
    "other = ops.zeros_like(b)\n",
    "loss=0\n",
    "for label in y:\n",
    "    indices = ops.equal(a,label).astype(ms.int32)\n",
    "    indices = [i for i, x in enumerate(indices) if x == 1]\n",
    "    indices = ms.Tensor(indices,dtype=ms.int32)\n",
    "    print(indices)\n",
    "    center = ops.mean(b.gather(indices,axis=0),axis=0)\n",
    "    \n",
    "    diff = b[indices]-center\n",
    "    loss += ops.sum(ops.square(diff)) / len(indices)\n",
    "    \n",
    "diff,loss"
   ]
  },
  {
   "cell_type": "code",
   "execution_count": 7,
   "id": "fe93e1db-9dfe-482f-b001-1a7aa2f823ce",
   "metadata": {},
   "outputs": [
    {
     "data": {
      "text/plain": [
       "array([[-0.6527041 , -2.95824234, -0.84226173,  1.49169656, -0.64634564,\n",
       "         0.33609979, -1.26817865, -1.01370364,  0.07705782,  0.17626776],\n",
       "       [-0.18935474, -0.82823851,  0.11633543,  1.70673719, -0.36565875,\n",
       "        -1.10531899, -1.7980907 ,  2.5022548 ,  0.75366564, -0.75932141],\n",
       "       [-0.90624812,  0.91137659, -1.75565781, -0.55791788, -0.76802599,\n",
       "         0.96952384,  0.81010023, -1.44079308, -0.73731127, -0.70141731]])"
      ]
     },
     "execution_count": 7,
     "metadata": {},
     "output_type": "execute_result"
    }
   ],
   "source": [
    "import numpy as np\n",
    "\n",
    "np.random.randn(3,10)"
   ]
  },
  {
   "cell_type": "code",
   "execution_count": null,
   "id": "2eac2826-1512-4eb0-9ec5-5e9fed3e2eec",
   "metadata": {},
   "outputs": [],
   "source": [
    "from mindspore.train import Model, LossMonitor\n",
    "from mindspore.dataset import GeneratorDataset\n",
    "\n",
    "def get_data(num, w=2.0, b=3.0):\n",
    "    \"\"\"生成数据及对应标签\"\"\"\n",
    "    for _ in range(num):\n",
    "        x = np.random.uniform(-10.0, 10.0)\n",
    "        noise = np.random.normal(0, 1)\n",
    "        y = x * w + b + noise\n",
    "        yield np.array([x]).astype(np.float32), np.array([y]).astype(np.float32)\n",
    "\n",
    "def create_dataset(num_data, batch_size=16):\n",
    "    \"\"\"加载数据集\"\"\"\n",
    "    dataset = GeneratorDataset(list(get_data(num_data)), column_names=['data', 'label'])\n",
    "    dataset = dataset.batch(batch_size)\n",
    "    return dataset\n",
    "\n",
    "train_dataset = create_dataset(num_data=160)\n",
    "network = nn.Dense(1, 1)\n",
    "loss_fn = MAELoss()\n",
    "optimizer = nn.Momentum(network.trainable_params(), learning_rate=0.005, momentum=0.9)\n",
    "\n",
    "# 使用model接口将网络、损失函数和优化器关联起来\n",
    "model = Model(network, loss_fn, optimizer)\n",
    "model.train(10, train_dataset, callbacks=[LossMonitor(10)])\n"
   ]
  }
 ],
 "metadata": {
  "kernelspec": {
   "display_name": "MindSpore",
   "language": "python",
   "name": "mindspore"
  },
  "language_info": {
   "codemirror_mode": {
    "name": "ipython",
    "version": 3
   },
   "file_extension": ".py",
   "mimetype": "text/x-python",
   "name": "python",
   "nbconvert_exporter": "python",
   "pygments_lexer": "ipython3",
   "version": "3.7.10"
  }
 },
 "nbformat": 4,
 "nbformat_minor": 5
}
